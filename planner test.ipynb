{
 "cells": [
  {
   "cell_type": "code",
   "execution_count": 12,
   "id": "f1303f3f",
   "metadata": {},
   "outputs": [],
   "source": [
    "from map_generator import MapGenerator\n",
    "import matplotlib.pyplot as plt\n",
    "import numpy as np\n",
    "import time\n",
    "from Planners.abc.abc_problem import ABCProblem\n",
    "from Planners.pso.pso_problem import PSOProblem\n",
    "from Planners.gwo.gwo_problem import GWOProblem\n",
    "from Planners.util.planner_base import PlannerBase\n",
    "from Planners.helper import linear_interpolation\n",
    "from IPython.display import display, clear_output"
   ]
  },
  {
   "cell_type": "code",
   "execution_count": 3,
   "id": "8a04fef8",
   "metadata": {},
   "outputs": [],
   "source": [
    "map_gen = MapGenerator('map_params/map_012_params.yaml')"
   ]
  },
  {
   "cell_type": "code",
   "execution_count": 4,
   "id": "ff849e06",
   "metadata": {},
   "outputs": [
    {
     "name": "stdout",
     "output_type": "stream",
     "text": [
      "(2000, 2000)\n"
     ]
    },
    {
     "data": {
      "image/png": "[encoded data removed]",
      "text/plain": [
       "<Figure size 640x480 with 1 Axes>"
      ]
     },
     "metadata": {},
     "output_type": "display_data"
    }
   ],
   "source": [
    "curr_map = map_gen.map.get_map()\n",
    "start = np.array([1100, 200]).astype(np.int32)\n",
    "end = np.array([250, 1750]).astype(np.int32)\n",
    "plt.imshow(curr_map, cmap='gray')\n",
    "plt.scatter([start[0]], [start[1]])\n",
    "plt.scatter([end[0]], [end[1]])\n",
    "print(curr_map.shape)\n",
    "plt.show()"
   ]
  },
  {
   "cell_type": "code",
   "execution_count": 26,
   "id": "4ca0cd09",
   "metadata": {},
   "outputs": [],
   "source": [
    "def get_callback(appending_list):\n",
    "    def callback(iteration, particle):\n",
    "        print('Completed iteration', iteration+1)\n",
    "        appending_list.append(particle)\n",
    "    return callback"
   ]
  },
  {
   "cell_type": "code",
   "execution_count": 31,
   "id": "f4a69c14",
   "metadata": {},
   "outputs": [],
   "source": [
    "planner_solution = {\n",
    "    'ABC': list(),\n",
    "    'GWO': list(),\n",
    "    'PSO': list()\n",
    "}\n",
    "\n",
    "planner_params = {\n",
    "    'ABC Optimizer': {\n",
    "        'optimizer': ABCProblem,\n",
    "        'optimizer_params': {\n",
    "            'iteration_number': 20,\n",
    "            'bees': 10,\n",
    "            'points': 4,\n",
    "            'iteration_callback': get_callback(planner_solution['ABC']),\n",
    "            'high_step_prob': 0.3\n",
    "        },\n",
    "        'map': curr_map,\n",
    "        'cost_func_wt': (2, 1)\n",
    "    },\n",
    "    'GWO Optimizer': {\n",
    "        'optimizer': GWOProblem,\n",
    "        'optimizer_params': {\n",
    "            'iteration_number': 20,\n",
    "            'wolves': 20,\n",
    "            'points': 4,\n",
    "            'iteration_callback': get_callback(planner_solution['GWO'])\n",
    "        },\n",
    "        'map': curr_map,\n",
    "        'cost_func_wt': (2, 1)\n",
    "    },\n",
    "    'PSO Optimizer': {\n",
    "        'optimizer': PSOProblem,\n",
    "        'optimizer_params': {\n",
    "            'iteration_number': 20,\n",
    "            'particles': 20,\n",
    "            'points': 4,\n",
    "            'iteration_callback': get_callback(planner_solution['PSO']),\n",
    "            'weight': 0.5,\n",
    "            'c_1': 1.5,\n",
    "            'c_2': 1.5\n",
    "        },\n",
    "        'map': curr_map,\n",
    "        'cost_func_wt': (2, 1)\n",
    "    }\n",
    "}"
   ]
  },
  {
   "cell_type": "code",
   "execution_count": 32,
   "id": "bcd8beb3",
   "metadata": {
    "scrolled": true
   },
   "outputs": [
    {
     "name": "stdout",
     "output_type": "stream",
     "text": [
      "========================================\n",
      "Entering ABC Optimizer\n",
      "========================================\n",
      "Completed iteration 1\n",
      "Completed iteration 2\n",
      "Completed iteration 3\n",
      "Completed iteration 4\n",
      "Completed iteration 5\n",
      "Completed iteration 6\n",
      "Completed iteration 7\n",
      "Completed iteration 8\n",
      "Completed iteration 9\n",
      "Completed iteration 10\n",
      "Completed iteration 11\n",
      "Completed iteration 12\n",
      "Completed iteration 13\n",
      "Completed iteration 14\n",
      "Completed iteration 15\n",
      "Completed iteration 16\n",
      "Completed iteration 17\n",
      "Completed iteration 18\n",
      "Completed iteration 19\n",
      "Completed iteration 20\n",
      "========================================\n",
      "Entering GWO Optimizer\n",
      "========================================\n",
      "Completed iteration 1\n",
      "Completed iteration 2\n",
      "Completed iteration 3\n",
      "Completed iteration 4\n",
      "Completed iteration 5\n",
      "Completed iteration 6\n",
      "Completed iteration 7\n",
      "Completed iteration 8\n",
      "Completed iteration 9\n",
      "Completed iteration 10\n",
      "Completed iteration 11\n",
      "Completed iteration 12\n",
      "Completed iteration 13\n",
      "Completed iteration 14\n",
      "Completed iteration 15\n",
      "Completed iteration 16\n",
      "Completed iteration 17\n",
      "Completed iteration 18\n",
      "Completed iteration 19\n",
      "Completed iteration 20\n",
      "========================================\n",
      "Entering PSO Optimizer\n",
      "========================================\n",
      "Completed iteration 1\n",
      "Completed iteration 2\n",
      "Completed iteration 3\n",
      "Completed iteration 4\n",
      "Completed iteration 5\n",
      "Completed iteration 6\n",
      "Completed iteration 7\n",
      "Completed iteration 8\n",
      "Completed iteration 9\n",
      "Completed iteration 10\n",
      "Completed iteration 11\n",
      "Completed iteration 12\n",
      "Completed iteration 13\n",
      "Completed iteration 14\n",
      "Completed iteration 15\n",
      "Completed iteration 16\n",
      "Completed iteration 17\n",
      "Completed iteration 18\n",
      "Completed iteration 19\n",
      "Completed iteration 20\n"
     ]
    }
   ],
   "source": [
    "time_taken = dict()\n",
    "for planner_name in planner_params:\n",
    "    print('='*40)\n",
    "    print('Entering', planner_name)\n",
    "    print('='*40)\n",
    "    start_time = time.time()\n",
    "    planner = PlannerBase(**planner_params[planner_name])\n",
    "    path = planner.get_path(start, end)\n",
    "    end_time = time.time()\n",
    "    elapsed_time = end_time - start_time\n",
    "    time_taken[planner_name] = elapsed_time"
   ]
  },
  {
   "cell_type": "code",
   "execution_count": 29,
   "id": "3b5cc13e",
   "metadata": {},
   "outputs": [
    {
     "data": {
      "text/plain": [
       "{'ABC Optimizer': 50.067821741104126,\n",
       " 'GWO Optimizer': 15.899415254592896,\n",
       " 'PSO Optimizer': 22.352409839630127}"
      ]
     },
     "execution_count": 29,
     "metadata": {},
     "output_type": "execute_result"
    }
   ],
   "source": [
    "time_taken"
   ]
  },
  {
   "cell_type": "code",
   "execution_count": 30,
   "id": "014830ad",
   "metadata": {},
   "outputs": [
    {
     "data": {
      "image/png": "[encoded data removed]",
      "text/plain": [
       "<Figure size 640x480 with 1 Axes>"
      ]
     },
     "metadata": {},
     "output_type": "display_data"
    }
   ],
   "source": [
    "for curr_optimizer in planner_solution:\n",
    "    itr = 1\n",
    "    for sol in planner_solution[curr_optimizer]:\n",
    "        points = sol.position.reshape(-1, 2)\n",
    "        points = (points * (np.array(curr_map.shape[::-1]) - 1)).astype(np.int32)\n",
    "        path = linear_interpolation(start, end, points)\n",
    "        fig = plt.figure()\n",
    "        plt.title('%s: Iteration %d' % (curr_optimizer, itr))\n",
    "        plt.imshow(curr_map, cmap='gray')\n",
    "        plt.scatter([start[0]], [start[1]])\n",
    "        plt.scatter([end[0]], [end[1]])\n",
    "        plt.plot(path[:, 0], path[:, 1])\n",
    "        display(fig)\n",
    "        clear_output(wait = True)\n",
    "        plt.pause(0.01)\n",
    "        clear_output(wait = True)\n",
    "        itr += 1"
   ]
  },
  {
   "cell_type": "code",
   "execution_count": null,
   "id": "fa30163c",
   "metadata": {},
   "outputs": [],
   "source": []
  }
 ],
 "metadata": {
  "kernelspec": {
   "display_name": "BTP",
   "language": "python",
   "name": "btp"
  },
  "language_info": {
   "codemirror_mode": {
    "name": "ipython",
    "version": 3
   },
   "file_extension": ".py",
   "mimetype": "text/x-python",
   "name": "python",
   "nbconvert_exporter": "python",
   "pygments_lexer": "ipython3",
   "version": "3.9.9"
  }
 },
 "nbformat": 4,
 "nbformat_minor": 5
}
